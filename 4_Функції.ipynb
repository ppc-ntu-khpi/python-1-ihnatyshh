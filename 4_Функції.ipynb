{
  "cells": [
    {
      "cell_type": "markdown",
      "metadata": {
        "id": "0NWjKt0FFHOj"
      },
      "source": [
        "# Функції"
      ]
    },
    {
      "cell_type": "markdown",
      "metadata": {
        "id": "gTIZYir9FEtw"
      },
      "source": [
        "## 1. Функції однієї змінної"
      ]
    },
    {
      "cell_type": "markdown",
      "metadata": {
        "id": "YoKhx_h0FFRy"
      },
      "source": [
        "Треба попросити користувача ввести десять цілих чисел (якщо число більше 10 або менше 0 - відкидаємо його) й наповнити список результатами обчислення значення такого виразу за введеним числом:\n",
        "$$\n",
        " x^2+1\n",
        "$$\n",
        "\n"
      ]
    },
    {
      "cell_type": "code",
      "execution_count": 2,
      "metadata": {
        "colab": {
          "base_uri": "https://localhost:8080/"
        },
        "id": "MxeAZwX1FFeu",
        "outputId": "055091a0-9f6b-40fe-faf7-ad6f6a483af1"
      },
      "outputs": [
        {
          "data": {
            "text/plain": [
              "[Ellipsis,\n",
              " Ellipsis,\n",
              " Ellipsis,\n",
              " Ellipsis,\n",
              " Ellipsis,\n",
              " Ellipsis,\n",
              " Ellipsis,\n",
              " Ellipsis,\n",
              " Ellipsis,\n",
              " Ellipsis]"
            ]
          },
          "execution_count": 2,
          "metadata": {},
          "output_type": "execute_result"
        }
      ],
      "source": [
        "\n",
        "def sqrPlus1(x):\n",
        "  return ...\n",
        "\n",
        "\n",
        "numbers=[]\n",
        "n = 1\n",
        "while True:\n",
        "  if n <= 10:\n",
        "    x = int(input(str(n)+\" - введіть число від 0 до 10:\"))\n",
        "\n",
        " \n",
        "    if ... :\n",
        "\n",
        "    \n",
        "      numbers.append(sqrPlus1(x))\n",
        "    else:\n",
        "      print(\"Потрібне число від 0 до 10!\")\n",
        "  else:\n",
        "    break\n",
        "  n = n + 1\n",
        "numbers"
      ]
    },
    {
      "cell_type": "markdown",
      "metadata": {
        "id": "Qw8rpCPQIeQi"
      },
      "source": [
        "## 2. Лямбда-функції"
      ]
    },
    {
      "cell_type": "markdown",
      "metadata": {
        "id": "NLz32FZQIeDx"
      },
      "source": [
        "Напищіть чотири лямбда-функції для виконання чотирьох арифметичних дій - додавання, віднімання, множення та ділення (якщо друге число дорівнює нулю, результат має бути нуль - тут зручно використати тернарний оператор) для програми-калькулятора."
      ]
    },
    {
      "cell_type": "code",
      "execution_count": 10,
      "metadata": {
        "colab": {
          "base_uri": "https://localhost:8080/"
        },
        "id": "n9zDmRTzIfhe",
        "outputId": "f3bbc22f-5354-4172-8a54-5eebe6844b4a"
      },
      "outputs": [
        {
          "name": "stdout",
          "output_type": "stream",
          "text": [
            "1 Додати числа\n",
            "2 Відняти числа\n",
            "3 Перемножити числа\n",
            "4 Поділити числа\n",
            "5 Завершити роботу\n",
            "Віднімання: -1\n",
            "Множення: 132\n",
            "Віднімання: -1\n",
            "Віднімання: -1\n",
            "Невідома операція!\n",
            "Ділення: 0.9166666666666666\n"
          ]
        }
      ],
      "source": [
        "\n",
        "add = lambda x, y: x + y\n",
        "sub = lambda x, y: x - y\n",
        "mul = lambda x, y: x * y\n",
        "div = lambda x, y: x / y if y != 0 else 0  \n",
        "\n",
        "\n",
        "a = int(input(\"Введіть перше число: \"))\n",
        "b = int(input(\"Введіть друге число: \"))\n",
        "12\n",
        "menu = {}\n",
        "menu['1'] = \"Додати числа\" \n",
        "menu['2'] = \"Відняти числа\"\n",
        "menu['3'] = \"Перемножити числа\"\n",
        "menu['4'] = \"Поділити числа\"\n",
        "menu['5'] = \"Завершити роботу\"\n",
        "\n",
        "options = menu.keys()\n",
        "for entry in options: \n",
        "    print(entry, menu[entry])\n",
        "\n",
        "while True:   \n",
        "    selection = input(\"Оберіть операцію: \") \n",
        "    if selection == '1': \n",
        "        print(\"Додавання:\", add(a, b))\n",
        "    elif selection == '2': \n",
        "        print(\"Віднімання:\", sub(a, b))\n",
        "    elif selection == '3':\n",
        "        print(\"Множення:\", mul(a, b))\n",
        "    elif selection == '4': \n",
        "        print(\"Ділення:\", div(a, b))\n",
        "    elif selection == '5': \n",
        "        break\n",
        "    else: \n",
        "        print(\"Невідома операція!\")\n"
      ]
    },
    {
      "cell_type": "markdown",
      "metadata": {
        "id": "PHvB7BM3MfLF"
      },
      "source": [
        "## 3. Функція з аргументами за замовчуванням"
      ]
    },
    {
      "cell_type": "markdown",
      "metadata": {
        "id": "7YJyiPk3MfeF"
      },
      "source": [
        "Написати функцію, яка просить чотири аргументи - номер агрегата (id), його назву (name), операцію, яку треба виконати (operation), приорітет (priority). Якщо значення двох останніх параметрів не задані, має виконуватись операція \"стоп\" з приорітетом \"високий\"."
      ]
    },
    {
      "cell_type": "code",
      "execution_count": 9,
      "metadata": {
        "colab": {
          "base_uri": "https://localhost:8080/"
        },
        "id": "wFZR9BjLNH8S",
        "outputId": "81240b97-8b06-4f44-c9e3-e5619a2ed03b"
      },
      "outputs": [
        {
          "name": "stdout",
          "output_type": "stream",
          "text": [
            "Агрегат: реактор # 1 \n",
            "\tОбрана операція: стоп \n",
            "\tПриорітет: високий\n",
            "Агрегат: турбіна # 2 \n",
            "\tОбрана операція: запуск \n",
            "\tПриорітет: звичайний\n",
            "Агрегат: компресор # 3 \n",
            "\tОбрана операція: стоп \n",
            "\tПриорітет: низький\n",
            "Агрегат: генератор # 4 \n",
            "\tОбрана операція: зупинка \n",
            "\tПриорітет: високий\n"
          ]
        }
      ],
      "source": [
        "def controlEngine(id, name, operation=\"стоп\", priority=\"високий\"):\n",
        "    print('Агрегат:', name, '#', id,\n",
        "          \"\\n\\tобрана операція:\", operation,\n",
        "          \"\\n\\tприрітет:\", priority)\n",
        "\n",
        "\n",
        "controlEngine(1, \"реактор\")  \n",
        "controlEngine(2, \"турбіна\", \"запуск\", \"звичайний\")  \n",
        "controlEngine(3, \"компресор\", priority=\"низький\")  \n",
        "controlEngine(4, \"генератор\", operation=\"зупинка\") \n"
      ]
    }
  ],
  "metadata": {
    "colab": {
      "collapsed_sections": [],
      "name": "4_Функції",
      "provenance": [],
      "toc_visible": true
    },
    "kernelspec": {
      "display_name": "Python 3",
      "name": "python3"
    },
    "language_info": {
      "codemirror_mode": {
        "name": "ipython",
        "version": 3
      },
      "file_extension": ".py",
      "mimetype": "text/x-python",
      "name": "python",
      "nbconvert_exporter": "python",
      "pygments_lexer": "ipython3",
      "version": "3.12.1"
    }
  },
  "nbformat": 4,
  "nbformat_minor": 0
}
